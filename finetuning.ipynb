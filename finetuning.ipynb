{
 "cells": [
  {
   "cell_type": "markdown",
   "metadata": {},
   "source": [
    "# Finetuning\n",
    "\n",
    "- Using pretrained model (MLM) weights as the base for the finetuned model.\n",
    "- Here finetuning, or supervised BERT based model training, involves the building of a model to classify samples of text data into several groups.\n",
    "- This notebook has been run in \"debug\" mode, so the lack of data is reflected in the results. Preferably use much more data! "
   ]
  },
  {
   "cell_type": "markdown",
   "metadata": {},
   "source": [
    "## 1. Deciding on GPU"
   ]
  },
  {
   "cell_type": "code",
   "execution_count": 24,
   "metadata": {},
   "outputs": [],
   "source": [
    "#check gpu(s)\n",
    "!nvidia-smi"
   ]
  },
  {
   "cell_type": "code",
   "execution_count": 2,
   "metadata": {},
   "outputs": [],
   "source": [
    "#pick gpu\n",
    "import os\n",
    "os.environ[\"CUDA_VISIBLE_DEVICES\"]=\"4\""
   ]
  },
  {
   "cell_type": "markdown",
   "metadata": {},
   "source": [
    "## 2. Essentials (libraries, config etc.)"
   ]
  },
  {
   "cell_type": "code",
   "execution_count": 3,
   "metadata": {},
   "outputs": [],
   "source": [
    "#hide warnings\n",
    "import warnings\n",
    "warnings.filterwarnings('ignore')"
   ]
  },
  {
   "cell_type": "code",
   "execution_count": 4,
   "metadata": {
    "id": "WJjuBps9hHmE",
    "tags": []
   },
   "outputs": [],
   "source": [
    "import pandas as pd\n",
    "import numpy as np\n",
    "from transformers import AutoModel, AutoTokenizer, get_cosine_schedule_with_warmup, AutoConfig\n",
    "import torch\n",
    "import torch.nn as nn\n",
    "from torch.utils.data import Sampler, Dataset, DataLoader\n",
    "from IPython.display import display\n",
    "from accelerate import Accelerator\n",
    "from tqdm.notebook import tqdm\n",
    "import random\n",
    "import os\n",
    "import multiprocessing\n",
    "from sklearn.model_selection import StratifiedKFold\n",
    "#import more_itertools\n",
    "from sklearn.metrics import f1_score, recall_score, precision_score, accuracy_score"
   ]
  },
  {
   "cell_type": "code",
   "execution_count": 5,
   "metadata": {
    "id": "4s_KxVLSg9-2",
    "tags": []
   },
   "outputs": [],
   "source": [
    "#configuration, change to fit your use case\n",
    "class cfg():\n",
    "    max_len = 100 #max token length\n",
    "    data_folder = \"./data/\"#\"/path/to/data/\"\n",
    "    model_name = \"TurkuNLP/bert-base-finnish-cased-v1\"\n",
    "    pt_model_path='./mlm_output_folder/pytorch_model.bin'\n",
    "    train_batch_size = 32\n",
    "    valid_batch_size = 64\n",
    "    test_batch_size = 64\n",
    "    \n",
    "    device = \"cuda\" if torch.cuda.is_available() else \"cpu\" #in case no GPU is available, we run with CPU\n",
    "    debug = True\n",
    "    seed = 2023\n",
    "\n",
    "    #testing the code with small numbers\n",
    "    epochs = 2 #switch to e.g. 5 or 10\n",
    "    n_folds = 2 #switch to e.g. 5 "
   ]
  },
  {
   "cell_type": "code",
   "execution_count": 6,
   "metadata": {
    "id": "UOX5AQdBg9-1",
    "tags": []
   },
   "outputs": [],
   "source": [
    "#set seeds\n",
    "def seed_everything(seed=42):\n",
    "    random.seed(seed)\n",
    "    os.environ['PYTHONHASHSEED'] = str(seed)\n",
    "    np.random.seed(seed)\n",
    "    torch.manual_seed(seed)\n",
    "    torch.cuda.manual_seed(seed)\n",
    "    torch.backends.cudnn.deterministic = True\n",
    "    \n",
    "seed_everything(seed=cfg.seed)"
   ]
  },
  {
   "cell_type": "markdown",
   "metadata": {},
   "source": [
    "## 2. Data"
   ]
  },
  {
   "cell_type": "code",
   "execution_count": 7,
   "metadata": {
    "id": "d7KDm7u3g9-2",
    "tags": []
   },
   "outputs": [],
   "source": [
    "#load training and testing data as pandas dataframes\n",
    "train =  pd.read_csv(cfg.data_folder+'finetune_trainset.csv')\n",
    "train = train[['label','text']]\n",
    "test = pd.read_csv(cfg.data_folder+'finetune_testset.csv')\n",
    "test = test[['label','text']]\n",
    "\n",
    "#check if the model runs with fewer data samples\n",
    "if cfg.debug:\n",
    "    cfg.train_batch_size=4\n",
    "    cfg.valid_batch_size=8\n",
    "    train = train[:100]\n",
    "    test = test[:10]"
   ]
  },
  {
   "cell_type": "code",
   "execution_count": 8,
   "metadata": {},
   "outputs": [],
   "source": [
    "#update data properties in config\n",
    "cfg.labels = train.label.unique()\n",
    "cfg.num_labels = len(cfg.labels)"
   ]
  },
  {
   "cell_type": "code",
   "execution_count": 9,
   "metadata": {
    "id": "mDgx5T6cg9-3",
    "outputId": "3f5c3ec6-1c74-4673-8742-8056ec07f822",
    "tags": []
   },
   "outputs": [
    {
     "data": {
      "text/html": [
       "<div>\n",
       "<style scoped>\n",
       "    .dataframe tbody tr th:only-of-type {\n",
       "        vertical-align: middle;\n",
       "    }\n",
       "\n",
       "    .dataframe tbody tr th {\n",
       "        vertical-align: top;\n",
       "    }\n",
       "\n",
       "    .dataframe thead th {\n",
       "        text-align: right;\n",
       "    }\n",
       "</style>\n",
       "<table border=\"1\" class=\"dataframe\">\n",
       "  <thead>\n",
       "    <tr style=\"text-align: right;\">\n",
       "      <th></th>\n",
       "      <th>label</th>\n",
       "      <th>text</th>\n",
       "    </tr>\n",
       "  </thead>\n",
       "  <tbody>\n",
       "    <tr>\n",
       "      <th>0</th>\n",
       "      <td>2</td>\n",
       "      <td>– Ei...</td>\n",
       "    </tr>\n",
       "    <tr>\n",
       "      <th>1</th>\n",
       "      <td>0</td>\n",
       "      <td>Kurkist kehtoon, kuinka kultaa Lapsi paljon tu...</td>\n",
       "    </tr>\n",
       "    <tr>\n",
       "      <th>2</th>\n",
       "      <td>0</td>\n",
       "      <td>Entä jos miehellä ei enää seiso?</td>\n",
       "    </tr>\n",
       "    <tr>\n",
       "      <th>3</th>\n",
       "      <td>0</td>\n",
       "      <td>Eihän ala-ikäiset saa muutakaan tehdä ilman va...</td>\n",
       "    </tr>\n",
       "    <tr>\n",
       "      <th>4</th>\n",
       "      <td>0</td>\n",
       "      <td>\"Mies on naisen pää, koska Allah on toisia suo...</td>\n",
       "    </tr>\n",
       "    <tr>\n",
       "      <th>...</th>\n",
       "      <td>...</td>\n",
       "      <td>...</td>\n",
       "    </tr>\n",
       "    <tr>\n",
       "      <th>95</th>\n",
       "      <td>0</td>\n",
       "      <td>Satuin paikalle kun hän oli ihan p.a. ja tarvi...</td>\n",
       "    </tr>\n",
       "    <tr>\n",
       "      <th>96</th>\n",
       "      <td>0</td>\n",
       "      <td>Ei kuitenkaan simasalapim menetelmällä.</td>\n",
       "    </tr>\n",
       "    <tr>\n",
       "      <th>97</th>\n",
       "      <td>0</td>\n",
       "      <td>Miksi silti olen aviossa?</td>\n",
       "    </tr>\n",
       "    <tr>\n",
       "      <th>98</th>\n",
       "      <td>2</td>\n",
       "      <td>Hänen olemuksestaan huomaa heti, ettei hän pid...</td>\n",
       "    </tr>\n",
       "    <tr>\n",
       "      <th>99</th>\n",
       "      <td>0</td>\n",
       "      <td>Oikeastaan alempisäätyisille vastataan jos hal...</td>\n",
       "    </tr>\n",
       "  </tbody>\n",
       "</table>\n",
       "<p>100 rows × 2 columns</p>\n",
       "</div>"
      ],
      "text/plain": [
       "    label                                               text\n",
       "0       2                                            – Ei...\n",
       "1       0  Kurkist kehtoon, kuinka kultaa Lapsi paljon tu...\n",
       "2       0                   Entä jos miehellä ei enää seiso?\n",
       "3       0  Eihän ala-ikäiset saa muutakaan tehdä ilman va...\n",
       "4       0  \"Mies on naisen pää, koska Allah on toisia suo...\n",
       "..    ...                                                ...\n",
       "95      0  Satuin paikalle kun hän oli ihan p.a. ja tarvi...\n",
       "96      0            Ei kuitenkaan simasalapim menetelmällä.\n",
       "97      0                          Miksi silti olen aviossa?\n",
       "98      2  Hänen olemuksestaan huomaa heti, ettei hän pid...\n",
       "99      0  Oikeastaan alempisäätyisille vastataan jos hal...\n",
       "\n",
       "[100 rows x 2 columns]"
      ]
     },
     "metadata": {},
     "output_type": "display_data"
    },
    {
     "data": {
      "text/html": [
       "<div>\n",
       "<style scoped>\n",
       "    .dataframe tbody tr th:only-of-type {\n",
       "        vertical-align: middle;\n",
       "    }\n",
       "\n",
       "    .dataframe tbody tr th {\n",
       "        vertical-align: top;\n",
       "    }\n",
       "\n",
       "    .dataframe thead th {\n",
       "        text-align: right;\n",
       "    }\n",
       "</style>\n",
       "<table border=\"1\" class=\"dataframe\">\n",
       "  <thead>\n",
       "    <tr style=\"text-align: right;\">\n",
       "      <th></th>\n",
       "      <th>label</th>\n",
       "      <th>text</th>\n",
       "    </tr>\n",
       "  </thead>\n",
       "  <tbody>\n",
       "    <tr>\n",
       "      <th>0</th>\n",
       "      <td>0</td>\n",
       "      <td>Ensinnäkin, korvikkeen saa lämmittää mikrossa,...</td>\n",
       "    </tr>\n",
       "    <tr>\n",
       "      <th>1</th>\n",
       "      <td>0</td>\n",
       "      <td>En tiedä, miksi trollaat asialla, joka on help...</td>\n",
       "    </tr>\n",
       "    <tr>\n",
       "      <th>2</th>\n",
       "      <td>0</td>\n",
       "      <td>Nyt todella tiedän mitä glamour elämä on...</td>\n",
       "    </tr>\n",
       "    <tr>\n",
       "      <th>3</th>\n",
       "      <td>0</td>\n",
       "      <td>Kissa oli saanut olla itse valitsemansa ajan e...</td>\n",
       "    </tr>\n",
       "    <tr>\n",
       "      <th>4</th>\n",
       "      <td>2</td>\n",
       "      <td>Mietippä rehellisesti tiedätkö oikeasti narsis...</td>\n",
       "    </tr>\n",
       "    <tr>\n",
       "      <th>5</th>\n",
       "      <td>1</td>\n",
       "      <td>Erittäin hyvä....</td>\n",
       "    </tr>\n",
       "    <tr>\n",
       "      <th>6</th>\n",
       "      <td>0</td>\n",
       "      <td>Johan se tuli selväksi sullekkin että osittain...</td>\n",
       "    </tr>\n",
       "    <tr>\n",
       "      <th>7</th>\n",
       "      <td>1</td>\n",
       "      <td>Kiitos kuitenkin vastauksestasi.</td>\n",
       "    </tr>\n",
       "    <tr>\n",
       "      <th>8</th>\n",
       "      <td>1</td>\n",
       "      <td>Jos viittitte kattoo ton keskipitkän ruotsin k...</td>\n",
       "    </tr>\n",
       "    <tr>\n",
       "      <th>9</th>\n",
       "      <td>0</td>\n",
       "      <td>Eipä vaivuta synkkyyteen, mielestäni nämä pals...</td>\n",
       "    </tr>\n",
       "  </tbody>\n",
       "</table>\n",
       "</div>"
      ],
      "text/plain": [
       "   label                                               text\n",
       "0      0  Ensinnäkin, korvikkeen saa lämmittää mikrossa,...\n",
       "1      0  En tiedä, miksi trollaat asialla, joka on help...\n",
       "2      0        Nyt todella tiedän mitä glamour elämä on...\n",
       "3      0  Kissa oli saanut olla itse valitsemansa ajan e...\n",
       "4      2  Mietippä rehellisesti tiedätkö oikeasti narsis...\n",
       "5      1                                  Erittäin hyvä....\n",
       "6      0  Johan se tuli selväksi sullekkin että osittain...\n",
       "7      1                   Kiitos kuitenkin vastauksestasi.\n",
       "8      1  Jos viittitte kattoo ton keskipitkän ruotsin k...\n",
       "9      0  Eipä vaivuta synkkyyteen, mielestäni nämä pals..."
      ]
     },
     "metadata": {},
     "output_type": "display_data"
    }
   ],
   "source": [
    "display(train)\n",
    "display(test)"
   ]
  },
  {
   "cell_type": "code",
   "execution_count": 10,
   "metadata": {
    "id": "X3ukPUR5g9-4",
    "outputId": "9853a90b-7461-464d-988e-0fa9133db247",
    "tags": []
   },
   "outputs": [
    {
     "name": "stdout",
     "output_type": "stream",
     "text": [
      "50 50\n",
      "50 50\n"
     ]
    }
   ],
   "source": [
    "#stratified kfold for creating training and validation datasets\n",
    "mskf = StratifiedKFold(n_splits=cfg.n_folds, shuffle=True, random_state=2023)\n",
    "\n",
    "for fold, (trn_, val_) in enumerate(mskf.split(train, train[\"label\"])):\n",
    "    print(len(trn_), len(val_))\n",
    "    train.loc[val_, \"kfold\"] = fold\n",
    "    \n",
    "train[\"kfold\"] = train[\"kfold\"].astype(int)"
   ]
  },
  {
   "cell_type": "code",
   "execution_count": 11,
   "metadata": {
    "id": "PDUrVeGGg9-4",
    "tags": []
   },
   "outputs": [],
   "source": [
    "class ClassificationDataset(Dataset):\n",
    "    def __init__(self, df):\n",
    "        self.texts = df[\"text\"].values\n",
    "        self.is_train = False\n",
    "        if \"label\" in df.columns:\n",
    "            self.labels = df[\"label\"].values\n",
    "            self.is_train = True\n",
    "    \n",
    "    def __len__(self):\n",
    "        return len(self.texts)\n",
    "    \n",
    "    def __getitem__(self, idx):\n",
    "        if self.is_train:\n",
    "              text, label = self.texts[idx], self.labels[idx]\n",
    "        else:\n",
    "              text = self.texts[idx]\n",
    "        \n",
    "        example = tokenizer(text, max_length=cfg.max_len, \n",
    "                                 padding=\"max_length\", add_special_tokens=True, truncation=True, return_attention_mask=True,\n",
    "        return_token_type_ids=True)\n",
    "        example[\"input_ids\"] = torch.tensor(example[\"input_ids\"])\n",
    "        example[\"token_type_ids\"] = torch.tensor(example[\"token_type_ids\"])\n",
    "        example[\"attention_mask\"] = torch.tensor(example[\"attention_mask\"])\n",
    "        if self.is_train:\n",
    "            return example, torch.tensor(label)\n",
    "        else:\n",
    "            return example"
   ]
  },
  {
   "cell_type": "markdown",
   "metadata": {},
   "source": [
    "## 3. Model training"
   ]
  },
  {
   "cell_type": "markdown",
   "metadata": {},
   "source": [
    "### 3.1 Building the model"
   ]
  },
  {
   "cell_type": "code",
   "execution_count": 12,
   "metadata": {
    "id": "5U46TerTg9-5",
    "tags": []
   },
   "outputs": [],
   "source": [
    "#https://www.kaggle.com/code/rhtsingh/utilizing-transformer-representations-efficiently\n",
    "class WeightedLayerPooling(torch.nn.Module):\n",
    "    def __init__(self, num_hidden_layers, layer_start: int = 4, layer_weights = None):\n",
    "        super(WeightedLayerPooling, self).__init__()\n",
    "        self.layer_start = layer_start\n",
    "        self.num_hidden_layers = num_hidden_layers\n",
    "        self.layer_weights = layer_weights if layer_weights is not None \\\n",
    "            else torch.nn.Parameter(\n",
    "                torch.tensor([1] * (num_hidden_layers+1 - layer_start), dtype=torch.float)\n",
    "            )\n",
    "\n",
    "    def forward(self, all_hidden_states):\n",
    "        all_layer_embedding = all_hidden_states[self.layer_start:, :, :, :]\n",
    "        weight_factor = self.layer_weights.unsqueeze(-1).unsqueeze(-1).unsqueeze(-1).expand(all_layer_embedding.size())\n",
    "        weighted_average = (weight_factor*all_layer_embedding).sum(dim=0) / self.layer_weights.sum()\n",
    "        return weighted_average"
   ]
  },
  {
   "cell_type": "code",
   "execution_count": 13,
   "metadata": {
    "id": "oZZMNvdTrgYu",
    "tags": []
   },
   "outputs": [],
   "source": [
    "class Model(torch.nn.Module):\n",
    "    def __init__(self):\n",
    "        super(Model, self).__init__()\n",
    "        tconfig = AutoConfig.from_pretrained(cfg.model_name)\n",
    "        tconfig.update({'output_hidden_states': True})\n",
    "        tconfig.update({'num_labels': cfg.num_labels})\n",
    "        self.model = AutoModel.from_pretrained(cfg.pt_model_path, config=tconfig)\n",
    "        self.model.base_model.embeddings.requires_grad_(False)\n",
    "        self.fc = torch.nn.Linear(tconfig.hidden_size, cfg.num_labels)\n",
    "        self.pooler = WeightedLayerPooling(tconfig.num_hidden_layers, layer_start=9, layer_weights=None)\n",
    "        self.ms_dropout = [torch.nn.Dropout(x/10) for x in range(5)]\n",
    "        self.dp = torch.nn.Dropout(0.2)\n",
    "\n",
    "    def forward(self, inputs):        \n",
    "        out_e = self.model(**inputs)\n",
    "        out = torch.stack(out_e[\"hidden_states\"])\n",
    "        out = self.pooler(out)\n",
    "        for i, fc_dp in enumerate(self.ms_dropout):\n",
    "            if i == 0:\n",
    "                outputs = self.fc(fc_dp(out[:, 0]))\n",
    "            else:\n",
    "                outputs += self.fc(fc_dp(out[:, 0]))\n",
    "        outputs = self.fc(self.dp(out[:,0]))\n",
    "        return outputs"
   ]
  },
  {
   "cell_type": "markdown",
   "metadata": {},
   "source": [
    "### 3.2 Logging information during model training"
   ]
  },
  {
   "cell_type": "code",
   "execution_count": 14,
   "metadata": {
    "id": "aMc2_zacg9-6",
    "tags": []
   },
   "outputs": [],
   "source": [
    "class AverageMeter(object):\n",
    "    \"\"\"Computes and stores the average and current value\"\"\"\n",
    "    def __init__(self):\n",
    "        self.reset()\n",
    "\n",
    "    def reset(self):\n",
    "        self.val = 0\n",
    "        self.avg = 0\n",
    "        self.sum = 0\n",
    "        self.count = 0\n",
    "\n",
    "    def update(self, val, n=1):\n",
    "        self.val = val\n",
    "        self.sum += val * n\n",
    "        self.count += n\n",
    "        self.avg = self.sum / self.count"
   ]
  },
  {
   "cell_type": "code",
   "execution_count": 15,
   "metadata": {},
   "outputs": [],
   "source": [
    "#evaluation metrics (accuracy, f1-score, precision, recall) calculated\n",
    "def get_eval_metrics(labels, preds, avg_type='weighted', print_metrics=True):\n",
    "    if isinstance(labels, list):\n",
    "        labels = torch.cat(labels).cpu()\n",
    "    if isinstance(preds, list):\n",
    "        preds = torch.cat(preds).cpu()\n",
    "    acc_score = accuracy_score(labels, preds)\n",
    "    ff1_score = f1_score(labels, preds, average=avg_type, labels=cfg.labels)\n",
    "    rec_score = recall_score(labels, preds, average=avg_type, labels=cfg.labels)\n",
    "    prec_score = precision_score(labels, preds, average=avg_type, labels=cfg.labels)\n",
    "    \n",
    "    if print_metrics:\n",
    "        print(f\"accuracy score: {acc_score}\")\n",
    "        print(f\"f1 score: {ff1_score}\")\n",
    "        print(f\"recall score: {rec_score}\")\n",
    "        print(f\"precision score: {prec_score}\")\n",
    "    \n",
    "    return [acc_score, ff1_score, rec_score, prec_score]"
   ]
  },
  {
   "cell_type": "markdown",
   "metadata": {},
   "source": [
    "### 3.3 Training and validation loops"
   ]
  },
  {
   "cell_type": "code",
   "execution_count": 16,
   "metadata": {
    "id": "RZKkk5SAg9-6",
    "tags": []
   },
   "outputs": [],
   "source": [
    "def train_epoch(dataloader, model, optimizer, loss_fn, scheduler, epoch, fold, valid_dataloader):\n",
    "    model.train()\n",
    "    print(\"=\"*15, \">\" f\"Fold {fold+1} Epoch {epoch}\", \"<\", \"*\"*15, \"\\n\\n\")\n",
    "    \n",
    "    losses = AverageMeter()\n",
    "    for batch_idx, (example, labels) in tqdm(enumerate(dataloader), total=len(dataloader)):\n",
    "        optimizer.zero_grad()\n",
    "        inputs = {k : v.to(cfg.device) for (k, v) in example.items()}\n",
    "        labels = torch.tensor(labels)\n",
    "        with torch.cuda.amp.autocast(enabled=True):\n",
    "            out = model(inputs).squeeze()\n",
    "        \n",
    "        loss = loss_fn(out.cpu().float(), labels.long())\n",
    "        loss.backward()\n",
    "        optimizer.step()\n",
    "        scheduler.step()\n",
    "        \n",
    "        losses.update(loss.item(), cfg.train_batch_size)\n",
    "        \n",
    "        if (batch_idx+1) % 100 == 0:\n",
    "            print(f\"Epoch [{epoch}] | Batch Number: [{batch_idx+1}/{len(dataloader)}] | Loss: [{losses.avg}]\\n\")\n",
    "            \n",
    "    return losses.avg"
   ]
  },
  {
   "cell_type": "code",
   "execution_count": 17,
   "metadata": {
    "id": "xx2Nz5Jig9-6",
    "tags": []
   },
   "outputs": [],
   "source": [
    "def validate_fn(dataloader, model, loss_fn):\n",
    "    model.eval()\n",
    "    losses = AverageMeter()\n",
    "    metrics = AverageMeter()\n",
    "    val_accuracy = []\n",
    "    val_preds = []\n",
    "    val_f1 = []\n",
    "    val_precision=[]\n",
    "    val_recall=[]\n",
    "    val_labels=[]\n",
    "    for batch_idx, (example, labels) in tqdm(enumerate(dataloader), total=len(dataloader)):\n",
    "        inputs = {k : v.to(cfg.device) for (k, v) in example.items()}\n",
    "        \n",
    "        with torch.no_grad():\n",
    "            out = model(inputs).squeeze()\n",
    "        loss = loss_fn(out.cpu(), labels.long())\n",
    "        losses.update(loss.item(), cfg.train_batch_size)\n",
    "\n",
    "        # Get the predictions\n",
    "        preds = torch.argmax(out.cpu(), dim=1).flatten()\n",
    "        val_preds.append(preds)\n",
    "        val_labels.append(labels)\n",
    "\n",
    "    return losses.avg, val_labels, val_preds   "
   ]
  },
  {
   "cell_type": "code",
   "execution_count": 18,
   "metadata": {
    "id": "lgYL_j4Vg9-6",
    "tags": []
   },
   "outputs": [],
   "source": [
    "def train_fold(fold): \n",
    "    train_df = train[train[\"kfold\"] != fold]\n",
    "    valid_df = train[train[\"kfold\"] == fold]\n",
    "    \n",
    "    global tokenizer \n",
    "    tokenizer = AutoTokenizer.from_pretrained(cfg.model_name)\n",
    "    train_dataset = ClassificationDataset(train_df)\n",
    "    train_dataloader = DataLoader(train_dataset, shuffle=True, num_workers=2, batch_size=cfg.train_batch_size)\n",
    "    valid_dataset = ClassificationDataset(valid_df)\n",
    "    valid_dataloader = DataLoader(valid_dataset, shuffle=True, num_workers=2, batch_size=cfg.valid_batch_size)\n",
    "    \n",
    "    model = Model()\n",
    "    model.to(cfg.device)\n",
    "    \n",
    "    optimizer = torch.optim.AdamW([\n",
    "        {\"params\": model.fc.parameters(), \"lr\": 3e-5},\n",
    "        {\"params\": model.pooler.parameters(), \"lr\": 3e-5},\n",
    "        {\"params\": model.model.parameters(), \"lr\": 1e-5},\n",
    "    ],\n",
    "    lr=5e-4)\n",
    "    scheduler = get_cosine_schedule_with_warmup(optimizer, \n",
    "                                                num_warmup_steps=0, \n",
    "                                                num_cycles=0.5, \n",
    "                                                num_training_steps=int(len(train_dataset) / cfg.train_batch_size * cfg.epochs))\n",
    "\n",
    "    \n",
    "    #best_val_loss=np.inf #for saving fewer checkpoints\n",
    "    for epoch in range(cfg.epochs):\n",
    "        #training\n",
    "        train_loss = train_epoch(train_dataloader, model, optimizer, nn.CrossEntropyLoss(), scheduler, epoch+1, fold,\n",
    "                                 valid_dataloader)\n",
    "\n",
    "        #validation\n",
    "        valid_loss, valid_labels, valid_pred  = validate_fn(valid_dataloader, model, nn.CrossEntropyLoss())\n",
    "        print(\"=\"*15, \">\" f\"Fold {fold+1} Epoch {epoch+1} Results:\", \"<\", \"*\"*15, \"\\n\\n\")\n",
    "        print(f\"Training Loss: {train_loss}\")\n",
    "        print(f\"Validation Loss: {valid_loss}\")\n",
    "        _ = get_eval_metrics(valid_labels, valid_pred)\n",
    "        \n",
    "        #saving model\n",
    "        #if valid_loss < best_val_loss: #for saving fewer checkpoints\n",
    "        print(\"SAVING MODEL: {} fold, {} epoch, valid_loss: {: >4.5f}\".format(fold+1,epoch+1, valid_loss))\n",
    "        #best_val_loss = valid_loss #for saving fewer checkpoints\n",
    "        torch.save(model.state_dict(), f\"finbert_base_fold_{fold+1}_epoch_{epoch+1}.pth\")\n"
   ]
  },
  {
   "cell_type": "code",
   "execution_count": 19,
   "metadata": {
    "scrolled": false
   },
   "outputs": [
    {
     "name": "stdout",
     "output_type": "stream",
     "text": [
      "Training for 2 folds\n"
     ]
    },
    {
     "name": "stderr",
     "output_type": "stream",
     "text": [
      "Some weights of the model checkpoint at ./mlm_output_folder/pytorch_model.bin were not used when initializing BertModel: ['cls.predictions.transform.LayerNorm.bias', 'cls.predictions.decoder.bias', 'cls.predictions.bias', 'cls.predictions.transform.LayerNorm.weight', 'cls.predictions.decoder.weight', 'cls.predictions.transform.dense.bias', 'cls.predictions.transform.dense.weight']\n",
      "- This IS expected if you are initializing BertModel from the checkpoint of a model trained on another task or with another architecture (e.g. initializing a BertForSequenceClassification model from a BertForPreTraining model).\n",
      "- This IS NOT expected if you are initializing BertModel from the checkpoint of a model that you expect to be exactly identical (initializing a BertForSequenceClassification model from a BertForSequenceClassification model).\n",
      "Some weights of BertModel were not initialized from the model checkpoint at ./mlm_output_folder/pytorch_model.bin and are newly initialized: ['bert.pooler.dense.weight', 'bert.pooler.dense.bias']\n",
      "You should probably TRAIN this model on a down-stream task to be able to use it for predictions and inference.\n"
     ]
    },
    {
     "name": "stdout",
     "output_type": "stream",
     "text": [
      "=============== >Fold 1 Epoch 1 < *************** \n",
      "\n",
      "\n"
     ]
    },
    {
     "data": {
      "application/vnd.jupyter.widget-view+json": {
       "model_id": "a9bc2349e5ec4fbe9bf028120502d87c",
       "version_major": 2,
       "version_minor": 0
      },
      "text/plain": [
       "  0%|          | 0/13 [00:00<?, ?it/s]"
      ]
     },
     "metadata": {},
     "output_type": "display_data"
    },
    {
     "data": {
      "application/vnd.jupyter.widget-view+json": {
       "model_id": "ad08dafb35094158b134df1de968ae5f",
       "version_major": 2,
       "version_minor": 0
      },
      "text/plain": [
       "  0%|          | 0/7 [00:00<?, ?it/s]"
      ]
     },
     "metadata": {},
     "output_type": "display_data"
    },
    {
     "name": "stdout",
     "output_type": "stream",
     "text": [
      "=============== >Fold 1 Epoch 1 Results: < *************** \n",
      "\n",
      "\n",
      "Training Loss: 0.7918790659079185\n",
      "Validation Loss: 0.7287997603416443\n",
      "accuracy score: 0.74\n",
      "f1 score: 0.6294252873563217\n",
      "recall score: 0.74\n",
      "precision score: 0.5476\n",
      "SAVING MODEL: 1 fold, 1 epoch, valid_loss: 0.72880\n",
      "=============== >Fold 1 Epoch 2 < *************** \n",
      "\n",
      "\n"
     ]
    },
    {
     "data": {
      "application/vnd.jupyter.widget-view+json": {
       "model_id": "c807572be98b425e9bd747074ab32a03",
       "version_major": 2,
       "version_minor": 0
      },
      "text/plain": [
       "  0%|          | 0/13 [00:00<?, ?it/s]"
      ]
     },
     "metadata": {},
     "output_type": "display_data"
    },
    {
     "data": {
      "application/vnd.jupyter.widget-view+json": {
       "model_id": "0b78338d9a58458bb61f13ff00175ba2",
       "version_major": 2,
       "version_minor": 0
      },
      "text/plain": [
       "  0%|          | 0/7 [00:00<?, ?it/s]"
      ]
     },
     "metadata": {},
     "output_type": "display_data"
    },
    {
     "name": "stdout",
     "output_type": "stream",
     "text": [
      "=============== >Fold 1 Epoch 2 Results: < *************** \n",
      "\n",
      "\n",
      "Training Loss: 0.5804865045043138\n",
      "Validation Loss: 0.9009665080479213\n",
      "accuracy score: 0.74\n",
      "f1 score: 0.6294252873563217\n",
      "recall score: 0.74\n",
      "precision score: 0.5476\n",
      "SAVING MODEL: 1 fold, 2 epoch, valid_loss: 0.90097\n"
     ]
    },
    {
     "name": "stderr",
     "output_type": "stream",
     "text": [
      "Some weights of the model checkpoint at ./mlm_output_folder/pytorch_model.bin were not used when initializing BertModel: ['cls.predictions.transform.LayerNorm.bias', 'cls.predictions.decoder.bias', 'cls.predictions.bias', 'cls.predictions.transform.LayerNorm.weight', 'cls.predictions.decoder.weight', 'cls.predictions.transform.dense.bias', 'cls.predictions.transform.dense.weight']\n",
      "- This IS expected if you are initializing BertModel from the checkpoint of a model trained on another task or with another architecture (e.g. initializing a BertForSequenceClassification model from a BertForPreTraining model).\n",
      "- This IS NOT expected if you are initializing BertModel from the checkpoint of a model that you expect to be exactly identical (initializing a BertForSequenceClassification model from a BertForSequenceClassification model).\n",
      "Some weights of BertModel were not initialized from the model checkpoint at ./mlm_output_folder/pytorch_model.bin and are newly initialized: ['bert.pooler.dense.weight', 'bert.pooler.dense.bias']\n",
      "You should probably TRAIN this model on a down-stream task to be able to use it for predictions and inference.\n"
     ]
    },
    {
     "name": "stdout",
     "output_type": "stream",
     "text": [
      "=============== >Fold 2 Epoch 1 < *************** \n",
      "\n",
      "\n"
     ]
    },
    {
     "data": {
      "application/vnd.jupyter.widget-view+json": {
       "model_id": "f67427926b624d148a7594f2eb68c9b1",
       "version_major": 2,
       "version_minor": 0
      },
      "text/plain": [
       "  0%|          | 0/13 [00:00<?, ?it/s]"
      ]
     },
     "metadata": {},
     "output_type": "display_data"
    },
    {
     "data": {
      "application/vnd.jupyter.widget-view+json": {
       "model_id": "ff9a1ecbad7f41b686debc5a08b5b2ab",
       "version_major": 2,
       "version_minor": 0
      },
      "text/plain": [
       "  0%|          | 0/7 [00:00<?, ?it/s]"
      ]
     },
     "metadata": {},
     "output_type": "display_data"
    },
    {
     "name": "stdout",
     "output_type": "stream",
     "text": [
      "=============== >Fold 2 Epoch 1 Results: < *************** \n",
      "\n",
      "\n",
      "Training Loss: 0.7921924843237951\n",
      "Validation Loss: 0.6542312247412545\n",
      "accuracy score: 0.76\n",
      "f1 score: 0.6563636363636364\n",
      "recall score: 0.76\n",
      "precision score: 0.5776\n",
      "SAVING MODEL: 2 fold, 1 epoch, valid_loss: 0.65423\n",
      "=============== >Fold 2 Epoch 2 < *************** \n",
      "\n",
      "\n"
     ]
    },
    {
     "data": {
      "application/vnd.jupyter.widget-view+json": {
       "model_id": "cc6eecd972524da2b0d1dd1b8b512194",
       "version_major": 2,
       "version_minor": 0
      },
      "text/plain": [
       "  0%|          | 0/13 [00:00<?, ?it/s]"
      ]
     },
     "metadata": {},
     "output_type": "display_data"
    },
    {
     "data": {
      "application/vnd.jupyter.widget-view+json": {
       "model_id": "ed85f819841b4965870413c5226b3a5b",
       "version_major": 2,
       "version_minor": 0
      },
      "text/plain": [
       "  0%|          | 0/7 [00:00<?, ?it/s]"
      ]
     },
     "metadata": {},
     "output_type": "display_data"
    },
    {
     "name": "stdout",
     "output_type": "stream",
     "text": [
      "=============== >Fold 2 Epoch 2 Results: < *************** \n",
      "\n",
      "\n",
      "Training Loss: 0.7197250643601785\n",
      "Validation Loss: 0.6447714396885463\n",
      "accuracy score: 0.76\n",
      "f1 score: 0.6563636363636364\n",
      "recall score: 0.76\n",
      "precision score: 0.5776\n",
      "SAVING MODEL: 2 fold, 2 epoch, valid_loss: 0.64477\n"
     ]
    }
   ],
   "source": [
    "print(f\"Training for {cfg.n_folds} folds\")\n",
    "for fold in range(cfg.n_folds):\n",
    "    train_fold(fold)"
   ]
  },
  {
   "cell_type": "markdown",
   "metadata": {},
   "source": [
    "## 4. Model testing"
   ]
  },
  {
   "cell_type": "code",
   "execution_count": 20,
   "metadata": {},
   "outputs": [],
   "source": [
    "def test_fn(dataloader, model, loss_fn):\n",
    "    model.eval()\n",
    "    losses = AverageMeter()\n",
    "    val_probs = []\n",
    "    val_preds = []\n",
    "    val_labels = []\n",
    "    for batch_idx, (example, labels) in tqdm(enumerate(dataloader), total=len(dataloader)):\n",
    "        inputs = {k : v.to(cfg.device) for (k, v) in example.items()}\n",
    "        \n",
    "        with torch.no_grad():\n",
    "            out = model(inputs).squeeze()\n",
    "        loss = loss_fn(out.cpu(), labels.long())\n",
    "        losses.update(loss.item(), cfg.train_batch_size)\n",
    "\n",
    "        # Get the predictions\n",
    "        preds = torch.argmax(out.cpu(), dim=1).flatten()\n",
    "        probs = out\n",
    "        val_probs.append(probs)\n",
    "        val_preds.append(preds)\n",
    "        val_labels.append(labels)\n",
    "               \n",
    "    return val_labels, val_preds, val_probs, losses.avg "
   ]
  },
  {
   "cell_type": "code",
   "execution_count": 21,
   "metadata": {
    "scrolled": false
   },
   "outputs": [
    {
     "name": "stderr",
     "output_type": "stream",
     "text": [
      "Some weights of the model checkpoint at ./mlm_output_folder/pytorch_model.bin were not used when initializing BertModel: ['cls.predictions.transform.LayerNorm.bias', 'cls.predictions.decoder.bias', 'cls.predictions.bias', 'cls.predictions.transform.LayerNorm.weight', 'cls.predictions.decoder.weight', 'cls.predictions.transform.dense.bias', 'cls.predictions.transform.dense.weight']\n",
      "- This IS expected if you are initializing BertModel from the checkpoint of a model trained on another task or with another architecture (e.g. initializing a BertForSequenceClassification model from a BertForPreTraining model).\n",
      "- This IS NOT expected if you are initializing BertModel from the checkpoint of a model that you expect to be exactly identical (initializing a BertForSequenceClassification model from a BertForSequenceClassification model).\n",
      "Some weights of BertModel were not initialized from the model checkpoint at ./mlm_output_folder/pytorch_model.bin and are newly initialized: ['bert.pooler.dense.weight', 'bert.pooler.dense.bias']\n",
      "You should probably TRAIN this model on a down-stream task to be able to use it for predictions and inference.\n"
     ]
    },
    {
     "data": {
      "application/vnd.jupyter.widget-view+json": {
       "model_id": "4b30d2bd27624cd692ac75bba935353d",
       "version_major": 2,
       "version_minor": 0
      },
      "text/plain": [
       "  0%|          | 0/1 [00:00<?, ?it/s]"
      ]
     },
     "metadata": {},
     "output_type": "display_data"
    },
    {
     "name": "stdout",
     "output_type": "stream",
     "text": [
      "Testing fold  1\n",
      "Test loss: 1.1715978384017944\n",
      "accuracy score: 0.6\n",
      "f1 score: 0.4499999999999999\n",
      "recall score: 0.6\n",
      "precision score: 0.36\n"
     ]
    },
    {
     "name": "stderr",
     "output_type": "stream",
     "text": [
      "Some weights of the model checkpoint at ./mlm_output_folder/pytorch_model.bin were not used when initializing BertModel: ['cls.predictions.transform.LayerNorm.bias', 'cls.predictions.decoder.bias', 'cls.predictions.bias', 'cls.predictions.transform.LayerNorm.weight', 'cls.predictions.decoder.weight', 'cls.predictions.transform.dense.bias', 'cls.predictions.transform.dense.weight']\n",
      "- This IS expected if you are initializing BertModel from the checkpoint of a model trained on another task or with another architecture (e.g. initializing a BertForSequenceClassification model from a BertForPreTraining model).\n",
      "- This IS NOT expected if you are initializing BertModel from the checkpoint of a model that you expect to be exactly identical (initializing a BertForSequenceClassification model from a BertForSequenceClassification model).\n",
      "Some weights of BertModel were not initialized from the model checkpoint at ./mlm_output_folder/pytorch_model.bin and are newly initialized: ['bert.pooler.dense.weight', 'bert.pooler.dense.bias']\n",
      "You should probably TRAIN this model on a down-stream task to be able to use it for predictions and inference.\n"
     ]
    },
    {
     "data": {
      "application/vnd.jupyter.widget-view+json": {
       "model_id": "e8e7676e8088443a93adc1891a31de95",
       "version_major": 2,
       "version_minor": 0
      },
      "text/plain": [
       "  0%|          | 0/1 [00:00<?, ?it/s]"
      ]
     },
     "metadata": {},
     "output_type": "display_data"
    },
    {
     "name": "stdout",
     "output_type": "stream",
     "text": [
      "Testing fold  2\n",
      "Test loss: 1.0782538652420044\n",
      "accuracy score: 0.6\n",
      "f1 score: 0.4499999999999999\n",
      "recall score: 0.6\n",
      "precision score: 0.36\n"
     ]
    }
   ],
   "source": [
    "test_dataset = ClassificationDataset(test)\n",
    "test_dataloader = DataLoader(test_dataset, shuffle=False, num_workers=2, batch_size=cfg.test_batch_size)\n",
    "preds_in_all_folds_val=[]\n",
    "probs_in_all_folds_val=[]\n",
    "\n",
    "for fold_num in range(cfg.n_folds):\n",
    "    pth = f\"finbert_base_fold_{fold_num+1}_epoch_2.pth\"\n",
    "    model = Model().to(cfg.device)\n",
    "    model.load_state_dict(torch.load(pth))\n",
    "    \n",
    "    labels, preds, probs1, test_loss = test_fn(test_dataloader, model, nn.CrossEntropyLoss())\n",
    "    preds_in_all_folds_val.append(preds)\n",
    "    probs_in_all_folds_val.append(probs1)\n",
    "    print(\"Testing fold \",fold_num+1)\n",
    "    print(f\"Test loss: {test_loss}\")\n",
    "    _ = get_eval_metrics(labels, preds)"
   ]
  },
  {
   "cell_type": "code",
   "execution_count": 22,
   "metadata": {},
   "outputs": [],
   "source": [
    "#tensor sum \n",
    "def sum_of_tensors(probs_in_all_folds_val):\n",
    "    probs_sum = torch.cat(probs_in_all_folds_val[0]).cpu()\n",
    "    for i in range(1,len(probs_in_all_folds_val)):\n",
    "        probs_sum = probs_sum + torch.cat(probs_in_all_folds_val[i]).cpu()\n",
    "    return probs_sum"
   ]
  },
  {
   "cell_type": "markdown",
   "metadata": {},
   "source": [
    "Averaging out folds."
   ]
  },
  {
   "cell_type": "code",
   "execution_count": 23,
   "metadata": {},
   "outputs": [
    {
     "name": "stdout",
     "output_type": "stream",
     "text": [
      "Testing..\n",
      "accuracy score: 0.6\n",
      "f1 score: 0.4499999999999999\n",
      "recall score: 0.6\n",
      "precision score: 0.36\n"
     ]
    }
   ],
   "source": [
    "preds_all_folds = torch.argmax((sum_of_tensors(probs_in_all_folds_val)/len(probs_in_all_folds_val)), dim=1)\n",
    "print(\"Testing..\")\n",
    "_ = get_eval_metrics(labels, preds_all_folds)"
   ]
  },
  {
   "cell_type": "code",
   "execution_count": null,
   "metadata": {},
   "outputs": [],
   "source": []
  }
 ],
 "metadata": {
  "kernelspec": {
   "display_name": "Python 3",
   "language": "python",
   "name": "python3"
  },
  "language_info": {
   "codemirror_mode": {
    "name": "ipython",
    "version": 3
   },
   "file_extension": ".py",
   "mimetype": "text/x-python",
   "name": "python",
   "nbconvert_exporter": "python",
   "pygments_lexer": "ipython3",
   "version": "3.7.9"
  }
 },
 "nbformat": 4,
 "nbformat_minor": 4
}
